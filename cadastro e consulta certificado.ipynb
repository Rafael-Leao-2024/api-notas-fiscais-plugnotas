{
 "cells": [
  {
   "cell_type": "code",
   "execution_count": 1,
   "id": "8ce56f85",
   "metadata": {},
   "outputs": [],
   "source": [
    "import requests"
   ]
  },
  {
   "cell_type": "code",
   "execution_count": 2,
   "id": "53f1d13a",
   "metadata": {},
   "outputs": [
    {
     "name": "stdout",
     "output_type": "stream",
     "text": [
      "[{'id': '6782ccd0536889cddb52ebec', 'nome': 'CN=TECNOSPEED S A:08187168000160, OU=Certificado PJ A1, OU=AC SOLUTI Multipla, OU=AC SOLUTI, OU=Autoridade Certificadora Raiz Brasileira v2, O=ICP-Brasil, C=BR, SE=26 41 18 05 02 40 D6 8A', 'hash': '8b86eef6ac2282c7dd4c2dc0ab09af3e', 'vencimento': '03/05/2019 00:00:00', 'email': 'email@plugnotas.com.br', 'cnpj': '08187168000160', 'cadastro': '2025-01-11T20:12:06.405Z'}]\n",
      "--------------------\n",
      "6782ccd0536889cddb52ebec\n",
      "email@plugnotas.com.br\n"
     ]
    }
   ],
   "source": [
    "# Consulta de certificados\n",
    "cnpj = '15436220000130'\n",
    "email = 'recifeplacas@hotmail.com'\n",
    " # URL api Brasil para cnpj\n",
    "    \n",
    "headers = {\n",
    "    'X-API-KEY': '2da392a6-79d2-4304-a8b7-959572c7e44d'\n",
    "}    \n",
    "\n",
    "requisicao = requests.get(f'https://api.sandbox.plugnotas.com.br/certificado', headers=headers)\n",
    "certificados = requisicao.json()\n",
    "print(certificados)\n",
    "\n",
    "print('-' *20)\n",
    "\n",
    "for certificado_empresa in certificados:\n",
    "    print(certificado_empresa['id'])\n",
    "    print(certificado_empresa['email'])"
   ]
  },
  {
   "cell_type": "code",
   "execution_count": 18,
   "id": "c82502c6",
   "metadata": {},
   "outputs": [
    {
     "name": "stdout",
     "output_type": "stream",
     "text": [
      "201\n",
      "{'message': 'Cadastro efetuado com sucesso', 'data': {'id': '6782ccd0536889cddb52ebec'}}\n"
     ]
    }
   ],
   "source": [
    "import requests\n",
    "\n",
    "# Caminho para o arquivo do certificado digital\n",
    "certificado_caminho = r\"C:\\Users\\Positivo union\\ApinotasFiscais\\certificado.pfx\"\n",
    "\n",
    "# URL da API (substitua pelo endpoint correto)\n",
    "url = \"https://api.sandbox.plugnotas.com.br/certificado\"\n",
    "\n",
    "# Headers com a chave de autenticação\n",
    "headers = {\n",
    "    'X-API-KEY': '2da392a6-79d2-4304-a8b7-959572c7e44d'\n",
    "}    \n",
    "\n",
    "# Lendo o arquivo no modo binário\n",
    "with open(certificado_caminho, \"rb\") as arquivo:\n",
    "    # Montando o payload para a API\n",
    "    arquivos = {\n",
    "        \"arquivo\": (certificado_caminho.split(\"\\\\\")[-1], arquivo, \"application/octet-stream\"),\n",
    "    }\n",
    "    # Dados adicionais (como a senha)\n",
    "    data = {\n",
    "        \"senha\": \"1234\"  # Substitua pela senha correta do seu certificado\n",
    "    }\n",
    "\n",
    "    # Enviando a solicitação para a API\n",
    "    response = requests.post(url, headers=headers, files=arquivos, data=data)\n",
    "\n",
    "# Verificando a resposta da API\n",
    "print(response.status_code)\n",
    "print(response.json())  # Ou response.text, dependendo da resposta"
   ]
  },
  {
   "cell_type": "code",
   "execution_count": 19,
   "id": "ab98ad89",
   "metadata": {},
   "outputs": [
    {
     "data": {
      "text/plain": [
       "'6782ccd0536889cddb52ebec'"
      ]
     },
     "execution_count": 19,
     "metadata": {},
     "output_type": "execute_result"
    }
   ],
   "source": [
    "idCertificado = response.json().get('data').get('id')\n",
    "idCertificado"
   ]
  },
  {
   "cell_type": "code",
   "execution_count": 20,
   "id": "573c8986",
   "metadata": {},
   "outputs": [
    {
     "name": "stdout",
     "output_type": "stream",
     "text": [
      "200\n",
      "{'message': 'Operação realizada com sucesso', 'data': {'id': '6782ccd0536889cddb52ebec'}}\n"
     ]
    }
   ],
   "source": [
    "# alterar ou renovar certificado\n",
    "\n",
    "link = f'https://api.sandbox.plugnotas.com.br/certificado/{idCertificado}'\n",
    "antigo = r\"C:\\Users\\Positivo union\\ApinotasFiscais\\antigo.pfx\"\n",
    "\n",
    "headers = {\n",
    "    'X-API-KEY': '2da392a6-79d2-4304-a8b7-959572c7e44d'\n",
    "}\n",
    "\n",
    "# Lendo o arquivo no modo binário\n",
    "with open(certificado_caminho, \"rb\") as arquivo:\n",
    "    # Montando o payload para a API\n",
    "    arquivos = {\n",
    "        \"arquivo\": (antigo.split(\"\\\\\")[-1], arquivo, \"application/octet-stream\"),\n",
    "    }\n",
    "    # Dados adicionais (como a senha)\n",
    "    data = {\n",
    "        \"senha\": \"2145\"  # Substitua pela senha correta do seu certificado\n",
    "    }\n",
    "\n",
    "requisicao_alterar = requests.put(link, data=arquivos, headers=headers)\n",
    "\n",
    "# Verificando a resposta da API\n",
    "print(requisicao_alterar.status_code)\n",
    "print(requisicao_alterar.json()) "
   ]
  },
  {
   "cell_type": "code",
   "execution_count": 10,
   "id": "95dd47da",
   "metadata": {},
   "outputs": [
    {
     "name": "stdout",
     "output_type": "stream",
     "text": [
      "{'message': 'Operação realizada com sucesso', 'data': {'id': '6782cb31536889cddb52e1c8'}}\n"
     ]
    }
   ],
   "source": [
    "# Delete do Certiificado \n",
    "\n",
    "link = f'https://api.sandbox.plugnotas.com.br/certificado/{idCertificado}'\n",
    "\n",
    "requisicao_delete = requests.delete(link, headers=headers)\n",
    "requisicao_delete.status_code\n",
    "print(requisicao_delete.json())"
   ]
  },
  {
   "cell_type": "code",
   "execution_count": 22,
   "id": "c2514ec2",
   "metadata": {},
   "outputs": [
    {
     "name": "stdout",
     "output_type": "stream",
     "text": [
      "{'id': '6782cb31536889cddb52e1c8', 'nome': 'CN=TECNOSPEED, O=Default Company Ltd, L=MARINGA, S=PARANA, C=BR, SE=92 43 DD 1C 1B AE D6 8B', 'hash': '0e51877434229bb98da75fec8f7c5ec9', 'vencimento': 'Thu Feb 03 2028 12:00:00 GMT+0000 (UTC)', 'cnpj': 'false', 'email': 'false', 'cadastro': '2025-01-11T19:49:05.512Z'}\n"
     ]
    }
   ],
   "source": [
    "# Consultar um certificado específico\n",
    "# Utilize para buscar os dados de um certificado específico já cadastrado\n",
    "id_certificado_cnpj = '6782cb31536889cddb52e1c8'\n",
    "link = f'https://api.sandbox.plugnotas.com.br/certificado/{id_certificado_cnpj}'\n",
    "\n",
    "requisicao_get = requests.get(link, headers=headers)\n",
    "requisicao_get.status_code\n",
    "print(requisicao_get.json())"
   ]
  },
  {
   "cell_type": "code",
   "execution_count": 36,
   "id": "c80aa15f",
   "metadata": {},
   "outputs": [
    {
     "data": {
      "text/plain": [
       "'2025-01-11T19:49:05.512Z'"
      ]
     },
     "execution_count": 36,
     "metadata": {},
     "output_type": "execute_result"
    }
   ],
   "source": [
    "requisicao_get.json().get('cadastro')"
   ]
  }
 ],
 "metadata": {
  "kernelspec": {
   "display_name": "Python 3 (ipykernel)",
   "language": "python",
   "name": "python3"
  },
  "language_info": {
   "codemirror_mode": {
    "name": "ipython",
    "version": 3
   },
   "file_extension": ".py",
   "mimetype": "text/x-python",
   "name": "python",
   "nbconvert_exporter": "python",
   "pygments_lexer": "ipython3",
   "version": "3.9.13"
  }
 },
 "nbformat": 4,
 "nbformat_minor": 5
}
