{
 "cells": [
  {
   "cell_type": "code",
   "execution_count": 30,
   "id": "b7326db9",
   "metadata": {},
   "outputs": [
    {
     "name": "stdout",
     "output_type": "stream",
     "text": [
      "200\n"
     ]
    },
    {
     "data": {
      "text/plain": [
       "{'message': 'Não implementado no ambiente do Sandbox.'}"
      ]
     },
     "execution_count": 30,
     "metadata": {},
     "output_type": "execute_result"
    }
   ],
   "source": [
    "# Cosulta de empresas Retorna uma lista caso no ambiemte certo \n",
    "import requests\n",
    "\n",
    "link = 'https://api.sandbox.plugnotas.com.br/empresa?hashProximaPagina=6782ccd0536889cddb52ebec'\n",
    "\n",
    "headers = {\n",
    "    'x-api-key': '2da392a6-79d2-4304-a8b7-959572c7e44d'\n",
    "}\n",
    "\n",
    "requisao_consulta = requests.get(link, headers=headers)\n",
    "print(requisao_consulta.status_code)\n",
    "requisao_consulta.json()"
   ]
  },
  {
   "cell_type": "code",
   "execution_count": 67,
   "id": "ce8786dc",
   "metadata": {},
   "outputs": [
    {
     "name": "stdout",
     "output_type": "stream",
     "text": [
      "200\n"
     ]
    },
    {
     "data": {
      "text/plain": [
       "{'endereco': {'codigoPais': '1058', 'descricaoPais': 'Brasil'},\n",
       " 'logotipo': {'fileName': 'exemplo-arquivo.jpeg'},\n",
       " 'nfse': {'config': {'rps': {'numeracao': [{'serie': '1', 'numero': 1}],\n",
       "    'lote': 1,\n",
       "    'agrupaLoteComSerieAutomatico': False,\n",
       "    'numeracaoAutomatica': True},\n",
       "   'calculoAutomaticoIbpt': {'ativo': False},\n",
       "   'prefeitura': {'login': 'teste', 'senha': 'teste123'},\n",
       "   'email': {'envio': True},\n",
       "   'interrompimento': {'actions': []},\n",
       "   'enviarNotificacaoProcessamento': {'email': False,\n",
       "    'webhook': False,\n",
       "    'destinatarios': []},\n",
       "   'producao': False,\n",
       "   'integracoes': [{'plataforma': 'Plataforma Teste',\n",
       "     'token': 'teste-token-12345',\n",
       "     'delayEmissao': 0,\n",
       "     '_id': '67826aae73cb32b97dcd8d1d'}],\n",
       "   'nfseNacional': False,\n",
       "   'consultaNfseNacional': False,\n",
       "   'envioLimitado': False},\n",
       "  'ativo': True,\n",
       "  'tipoContrato': 0},\n",
       " 'nfe': {'config': {'dfe': {'primeiroNsu': True},\n",
       "   'email': {'envio': False},\n",
       "   'integracoes': {'plugStorage': {'ativo': False}},\n",
       "   'producao': False,\n",
       "   'impressaoFcp': False,\n",
       "   'impressaoValorImport': False,\n",
       "   'impressaoPartilha': True,\n",
       "   'versaoManual': '6.0',\n",
       "   'versaoEsquema': 'pl_009o',\n",
       "   'numeracao': [],\n",
       "   'numeracaoAutomatica': True,\n",
       "   'tipoEmissao': 'Normal'},\n",
       "  'ativo': False},\n",
       " 'nfce': {'config': {'modoContingencia': {'ativo': False},\n",
       "   'calculoAutomaticoIbpt': {'ativo': False},\n",
       "   'email': {'envio': False},\n",
       "   'integracoes': {'plugStorage': {'ativo': False}},\n",
       "   'numeracao': [{'serie': 1, 'numero': 1}],\n",
       "   'producao': False,\n",
       "   'versaoManual': '6.0',\n",
       "   'versaoEsquema': 'pl_009o',\n",
       "   'numeracaoAutomatica': True},\n",
       "  'ativo': False},\n",
       " 'mdfe': {'config': {'email': {'envio': False},\n",
       "   'producao': False,\n",
       "   'numeracao': [{'serie': 1, 'numero': 1}],\n",
       "   'versaoManual': '3.00a',\n",
       "   'numeracaoAutomatica': True},\n",
       "  'ativo': True,\n",
       "  'tipoContrato': 0},\n",
       " 'cfe': {'config': {'email': {'envio': False},\n",
       "   'producao': False,\n",
       "   'versaoManual': '0.07'},\n",
       "  'ativo': False,\n",
       "  'tipoContrato': 0},\n",
       " '_id': '67826aae73cb32b97dcd8d1c',\n",
       " 'cpfCnpj': '15436220000130',\n",
       " 'inscricaoEstadual': '048411159',\n",
       " 'razaoSocial': 'CRISTOVAO E MEDEIROS INDUSTRIA E COMERCIO DE PLACAS LTDA',\n",
       " 'simplesNacional': True,\n",
       " 'regimeTributario': 1,\n",
       " 'incentivoFiscal': False,\n",
       " 'incentivadorCultural': False,\n",
       " 'regimeTributarioEspecial': 6,\n",
       " 'email': 'rafaelampaz6@gmail.com',\n",
       " 'certificado': 'ID do certificado a ser vinculado a empresa. Obtido através da rota /certificado',\n",
       " 'createdAt': '2025-01-11T12:57:18.530Z',\n",
       " 'updatedAt': '2025-01-11T21:13:56.232Z'}"
      ]
     },
     "execution_count": 67,
     "metadata": {},
     "output_type": "execute_result"
    }
   ],
   "source": [
    "# Cosultar apenas uma empresas\n",
    "cnpj = '15436220000130'\n",
    "uma_empresa_especifica = requests.get(f'https://api.sandbox.plugnotas.com.br/empresa/{cnpj}', headers=headers)\n",
    "\n",
    "uma_empresa_especifica = requests.get(link, headers=headers)\n",
    "print(uma_empresa_especifica.status_code)\n",
    "uma_empresa_especifica.json()"
   ]
  },
  {
   "cell_type": "markdown",
   "id": "03542f5f",
   "metadata": {},
   "source": [
    "### Alterar empresa\n",
    "- Altera o cadastro de um CNPJ (emitente/prestador), que esteja vinculado a sua organização. Neste método, você pode   alterar um único campo específico, ou todo o cadastro."
   ]
  },
  {
   "cell_type": "code",
   "execution_count": 66,
   "id": "44e9b823",
   "metadata": {},
   "outputs": [
    {
     "name": "stdout",
     "output_type": "stream",
     "text": [
      "200\n"
     ]
    },
    {
     "data": {
      "text/plain": [
       "{'message': 'Operação realizada com sucesso', 'data': {}}"
      ]
     },
     "execution_count": 66,
     "metadata": {},
     "output_type": "execute_result"
    }
   ],
   "source": [
    "cnpj = '15436220000130'\n",
    "link = f'https://api.sandbox.plugnotas.com.br/empresa/{cnpj}'\n",
    "\n",
    "dados = {\n",
    "    'nfe': {'config': {'dfe': {'primeiroNsu': True},\n",
    "   'email': {'envio': False},\n",
    "   'integracoes': {'plugStorage': {'ativo': True}},\n",
    "   'producao': False,\n",
    "   'impressaoFcp': False,\n",
    "   'impressaoValorImport': False,\n",
    "   'impressaoPartilha': True,\n",
    "   'versaoManual': '6.0',\n",
    "   'versaoEsquema': 'pl_009o',\n",
    "   'numeracao': [],\n",
    "   'numeracaoAutomatica': True,\n",
    "   'tipoEmissao': 'Normal'}}\n",
    "}\n",
    "\n",
    "update = requests.patch(link, data=dados, headers=headers)\n",
    "print(update.status_code)\n",
    "\n",
    "update.json()"
   ]
  },
  {
   "cell_type": "code",
   "execution_count": null,
   "id": "81aa3ad2",
   "metadata": {},
   "outputs": [],
   "source": []
  }
 ],
 "metadata": {
  "kernelspec": {
   "display_name": "Python 3 (ipykernel)",
   "language": "python",
   "name": "python3"
  },
  "language_info": {
   "codemirror_mode": {
    "name": "ipython",
    "version": 3
   },
   "file_extension": ".py",
   "mimetype": "text/x-python",
   "name": "python",
   "nbconvert_exporter": "python",
   "pygments_lexer": "ipython3",
   "version": "3.9.13"
  }
 },
 "nbformat": 4,
 "nbformat_minor": 5
}
