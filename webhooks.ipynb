{
 "cells": [
  {
   "cell_type": "code",
   "execution_count": 9,
   "id": "37dd0c1d",
   "metadata": {},
   "outputs": [],
   "source": [
    "import requests"
   ]
  },
  {
   "cell_type": "code",
   "execution_count": 70,
   "id": "2ddb5aec",
   "metadata": {},
   "outputs": [
    {
     "name": "stdout",
     "output_type": "stream",
     "text": [
      "200\n",
      "{'url': 'https://web-production-7e591.up.railway.app/', 'method': 'POST', 'headers': {'x-api-key': '2da392a6-79d2-4304-a8b7-959572c7e44d', 'content-type': 'application/json'}}\n",
      "link  https://web-production-7e591.up.railway.app/\n"
     ]
    }
   ],
   "source": [
    "# CONSULTAR WEBHOOK\n",
    "cnpj = '15436220000130'\n",
    "link = f'https://api.sandbox.plugnotas.com.br/webhook'\n",
    "\n",
    "headers = {\n",
    "    'x-api-key': '2da392a6-79d2-4304-a8b7-959572c7e44d'\n",
    "}\n",
    "\n",
    "wooks = requests.get(link, headers=headers)\n",
    "print(wooks.status_code)\n",
    "print(wooks.json())\n",
    "print(\"link \", wooks.json().get('url'))"
   ]
  },
  {
   "cell_type": "code",
   "execution_count": 71,
   "id": "240d6c08",
   "metadata": {},
   "outputs": [
    {
     "name": "stdout",
     "output_type": "stream",
     "text": [
      "200\n",
      "{'message': 'Operação realizada com sucesso', 'data': {}}\n"
     ]
    }
   ],
   "source": [
    "# ALTERAR WEBHOOK\n",
    "link = f'https://api.sandbox.plugnotas.com.br/webhook'\n",
    "\n",
    "headers = {\n",
    "    'x-api-key': '2da392a6-79d2-4304-a8b7-959572c7e44d'\n",
    "}\n",
    "\n",
    "dados = {\n",
    "    'url':'https://web-production-7e591.up.railway.app/',\n",
    "    'method': 'PATCH'\n",
    "}\n",
    "\n",
    "wooks = requests.put(link, headers=headers, json=dados)\n",
    "print(wooks.status_code)\n",
    "print(wooks.json())"
   ]
  },
  {
   "cell_type": "code",
   "execution_count": 69,
   "id": "5cd3542b",
   "metadata": {},
   "outputs": [
    {
     "name": "stdout",
     "output_type": "stream",
     "text": [
      "200\n",
      "{'message': 'Operação realizada com sucesso', 'data': {}}\n"
     ]
    }
   ],
   "source": [
    "# Cadastrar webhook etc...\n",
    "import requests\n",
    "\n",
    "link = f'https://api.sandbox.plugnotas.com.br/webhook'\n",
    "\n",
    "headers = {\n",
    "    'x-api-key': '2da392a6-79d2-4304-a8b7-959572c7e44d'\n",
    "}\n",
    "\n",
    "body = {\n",
    "    \"url\": \"https://web-production-7e591.up.railway.app/\",\n",
    "    \"method\": \"POST\",\n",
    "    \"nfe\": {\n",
    "        \"retornoCompleto\": True\n",
    "           },\n",
    "    \"headers\": headers\n",
    "}\n",
    "\n",
    "cadastrar = requests.post(url=link, headers=headers, json=body)\n",
    "print(cadastrar.status_code)\n",
    "print(cadastrar.json())"
   ]
  },
  {
   "cell_type": "code",
   "execution_count": 68,
   "id": "619487ad",
   "metadata": {},
   "outputs": [
    {
     "name": "stdout",
     "output_type": "stream",
     "text": [
      "200\n",
      "{'message': 'Operação realizada com sucesso', 'data': {}}\n"
     ]
    }
   ],
   "source": [
    "# remover webhook\n",
    "url_del = 'https://api.sandbox.plugnotas.com.br/webhook'\n",
    "remover_webhook = requests.delete(url_del, headers=headers)\n",
    "print(remover_webhook.status_code)\n",
    "print(remover_webhook.json())"
   ]
  },
  {
   "cell_type": "code",
   "execution_count": 81,
   "id": "7c9d4d7f",
   "metadata": {},
   "outputs": [
    {
     "name": "stdout",
     "output_type": "stream",
     "text": [
      "405\n",
      "<!doctype html>\n",
      "<html lang=en>\n",
      "<title>405 Method Not Allowed</title>\n",
      "<h1>Method Not Allowed</h1>\n",
      "<p>The method is not allowed for the requested URL.</p>\n",
      "\n"
     ]
    }
   ],
   "source": [
    "# Testa webhook \n",
    "\n",
    "url_test = f'https://api.sandbox.plugnotas.com.br/webhook/verify'\n",
    "\n",
    "headers = {\n",
    "    'x-api-key': '2da392a6-79d2-4304-a8b7-959572c7e44d'\n",
    "}\n",
    "\n",
    "web_test = requests.post(url_test, headers=headers)\n",
    "print(web_test.status_code)\n",
    "print(web_test.text)"
   ]
  }
 ],
 "metadata": {
  "kernelspec": {
   "display_name": "Python 3 (ipykernel)",
   "language": "python",
   "name": "python3"
  },
  "language_info": {
   "codemirror_mode": {
    "name": "ipython",
    "version": 3
   },
   "file_extension": ".py",
   "mimetype": "text/x-python",
   "name": "python",
   "nbconvert_exporter": "python",
   "pygments_lexer": "ipython3",
   "version": "3.9.13"
  }
 },
 "nbformat": 4,
 "nbformat_minor": 5
}
