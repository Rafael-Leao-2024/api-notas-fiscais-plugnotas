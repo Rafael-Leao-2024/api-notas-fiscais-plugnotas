{
 "cells": [
  {
   "cell_type": "code",
   "execution_count": 9,
   "id": "37dd0c1d",
   "metadata": {},
   "outputs": [],
   "source": [
    "import requests"
   ]
  },
  {
   "cell_type": "code",
   "execution_count": 46,
   "id": "2ddb5aec",
   "metadata": {},
   "outputs": [
    {
     "data": {
      "text/plain": [
       "200"
      ]
     },
     "execution_count": 46,
     "metadata": {},
     "output_type": "execute_result"
    }
   ],
   "source": [
    "# CONSULTAR WEBHOOK\n",
    "cnpj = '15436220000130'\n",
    "link = f'https://api.sandbox.plugnotas.com.br/empresa/{cnpj}/webhook'\n",
    "\n",
    "headers = {\n",
    "    'x-api-key': '2da392a6-79d2-4304-a8b7-959572c7e44d'\n",
    "}\n",
    "\n",
    "wooks = requests.get(link, headers=headers)\n",
    "wooks.status_code"
   ]
  },
  {
   "cell_type": "code",
   "execution_count": 47,
   "id": "482f4f39",
   "metadata": {},
   "outputs": [
    {
     "data": {
      "text/plain": [
       "{'url': 'https://web-production-7e591.up.railway.app/',\n",
       " 'method': 'PATCH',\n",
       " 'headers': {'content-type': 'application/json'}}"
      ]
     },
     "execution_count": 47,
     "metadata": {},
     "output_type": "execute_result"
    }
   ],
   "source": [
    "wooks.json()"
   ]
  },
  {
   "cell_type": "code",
   "execution_count": 36,
   "id": "131480c1",
   "metadata": {},
   "outputs": [
    {
     "name": "stdout",
     "output_type": "stream",
     "text": [
      "https://web-production-7e591.up.railway.app/\n"
     ]
    }
   ],
   "source": [
    "print(wooks.json().get('url'))"
   ]
  },
  {
   "cell_type": "code",
   "execution_count": 44,
   "id": "240d6c08",
   "metadata": {},
   "outputs": [
    {
     "data": {
      "text/plain": [
       "200"
      ]
     },
     "execution_count": 44,
     "metadata": {},
     "output_type": "execute_result"
    }
   ],
   "source": [
    "# ALTERAR WEBHOOK\n",
    "cnpj = '15436220000130'\n",
    "link = f'https://api.sandbox.plugnotas.com.br/empresa/{cnpj}/webhook'\n",
    "\n",
    "headers = {\n",
    "    'x-api-key': '2da392a6-79d2-4304-a8b7-959572c7e44d'\n",
    "}\n",
    "\n",
    "dados = {\n",
    "    'url':'https://web-production-7e591.up.railway.app/',\n",
    "    'method': 'PATCH'\n",
    "}\n",
    "\n",
    "wooks = requests.put(link, headers=headers, json=dados)\n",
    "wooks.status_code"
   ]
  },
  {
   "cell_type": "code",
   "execution_count": 45,
   "id": "f7708c34",
   "metadata": {},
   "outputs": [
    {
     "data": {
      "text/plain": [
       "{'message': 'Operação realizada com sucesso', 'data': {}}"
      ]
     },
     "execution_count": 45,
     "metadata": {},
     "output_type": "execute_result"
    }
   ],
   "source": [
    "wooks.json()"
   ]
  },
  {
   "cell_type": "code",
   "execution_count": 48,
   "id": "b861beeb",
   "metadata": {},
   "outputs": [
    {
     "name": "stdout",
     "output_type": "stream",
     "text": [
      "200\n"
     ]
    },
    {
     "data": {
      "text/plain": [
       "{'message': 'Operação realizada com sucesso', 'data': {}}"
      ]
     },
     "execution_count": 48,
     "metadata": {},
     "output_type": "execute_result"
    }
   ],
   "source": [
    "# DELETAR WEBHOOK\n",
    "link = f'https://api.sandbox.plugnotas.com.br/empresa/{cnpj}/webhook'\n",
    "\n",
    "deletar = requests.delete(link, headers=headers)\n",
    "print(deletar.status_code)\n",
    "deletar.json()"
   ]
  },
  {
   "cell_type": "code",
   "execution_count": null,
   "id": "5cd3542b",
   "metadata": {},
   "outputs": [],
   "source": [
    "# Cadastrar webhook etc...\n",
    "\n",
    "\n"
   ]
  }
 ],
 "metadata": {
  "kernelspec": {
   "display_name": "Python 3 (ipykernel)",
   "language": "python",
   "name": "python3"
  },
  "language_info": {
   "codemirror_mode": {
    "name": "ipython",
    "version": 3
   },
   "file_extension": ".py",
   "mimetype": "text/x-python",
   "name": "python",
   "nbconvert_exporter": "python",
   "pygments_lexer": "ipython3",
   "version": "3.9.13"
  }
 },
 "nbformat": 4,
 "nbformat_minor": 5
}
