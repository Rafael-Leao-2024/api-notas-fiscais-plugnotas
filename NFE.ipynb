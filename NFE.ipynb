{
 "cells": [
  {
   "cell_type": "code",
   "execution_count": 78,
   "id": "3b126343",
   "metadata": {},
   "outputs": [
    {
     "name": "stdout",
     "output_type": "stream",
     "text": [
      "{'uf': 'PE', 'cep': '51170000', 'qsa': [{'pais': None, 'nome_socio': 'PAULO FERNANDO QUEIROZ DE FIGUEIREDO JUNIOR', 'codigo_pais': None, 'faixa_etaria': 'Entre 61 a 70 anos', 'cnpj_cpf_do_socio': '***123574**', 'qualificacao_socio': 'Presidente', 'codigo_faixa_etaria': 7, 'data_entrada_sociedade': '2014-02-04', 'identificador_de_socio': 2, 'cpf_representante_legal': '***000000**', 'nome_representante_legal': '', 'codigo_qualificacao_socio': 16, 'qualificacao_representante_legal': 'Não informada', 'codigo_qualificacao_representante_legal': 0}, {'pais': None, 'nome_socio': 'VANIA WALESKA TAVARES DE LIMA STUHRK', 'codigo_pais': None, 'faixa_etaria': 'Entre 61 a 70 anos', 'cnpj_cpf_do_socio': '***714384**', 'qualificacao_socio': 'Diretor', 'codigo_faixa_etaria': 7, 'data_entrada_sociedade': '2010-11-30', 'identificador_de_socio': 2, 'cpf_representante_legal': '***000000**', 'nome_representante_legal': '', 'codigo_qualificacao_socio': 10, 'qualificacao_representante_legal': 'Não informada', 'codigo_qualificacao_representante_legal': 0}, {'pais': None, 'nome_socio': 'ROBERTO EGYDIO AZEVEDO DE FIGUEIREDO', 'codigo_pais': None, 'faixa_etaria': 'Entre 41 a 50 anos', 'cnpj_cpf_do_socio': '***513424**', 'qualificacao_socio': 'Diretor', 'codigo_faixa_etaria': 5, 'data_entrada_sociedade': '2015-06-17', 'identificador_de_socio': 2, 'cpf_representante_legal': '***000000**', 'nome_representante_legal': '', 'codigo_qualificacao_socio': 10, 'qualificacao_representante_legal': 'Não informada', 'codigo_qualificacao_representante_legal': 0}, {'pais': None, 'nome_socio': 'FERNANDO JOSE AZEVEDO DE FIGUEIREDO', 'codigo_pais': None, 'faixa_etaria': 'Entre 51 a 60 anos', 'cnpj_cpf_do_socio': '***923864**', 'qualificacao_socio': 'Diretor', 'codigo_faixa_etaria': 6, 'data_entrada_sociedade': '2015-06-17', 'identificador_de_socio': 2, 'cpf_representante_legal': '***000000**', 'nome_representante_legal': '', 'codigo_qualificacao_socio': 10, 'qualificacao_representante_legal': 'Não informada', 'codigo_qualificacao_representante_legal': 0}], 'cnpj': '12946886000140', 'pais': None, 'email': None, 'porte': 'DEMAIS', 'bairro': 'IMBIRIBEIRA', 'numero': '1801', 'ddd_fax': '8134768615', 'municipio': 'RECIFE', 'logradouro': 'MARECHAL MASCARENHAS DE MORAES', 'cnae_fiscal': 4511101, 'codigo_pais': None, 'complemento': '', 'codigo_porte': 5, 'razao_social': 'GRANVIA VEICULOS S.A.', 'nome_fantasia': 'GRANVIA VEICULOS', 'capital_social': 11351635, 'ddd_telefone_1': '8134768554', 'ddd_telefone_2': '', 'opcao_pelo_mei': None, 'descricao_porte': '', 'codigo_municipio': 2531, 'cnaes_secundarios': [{'codigo': 4511102, 'descricao': 'Comércio a varejo de automóveis, camionetas e utilitários usados'}, {'codigo': 4520001, 'descricao': 'Serviços de manutenção e reparação mecânica de veículos automotores'}, {'codigo': 4530703, 'descricao': 'Comércio a varejo de peças e acessórios novos para veículos automotores'}, {'codigo': 4530704, 'descricao': 'Comércio a varejo de peças e acessórios usados para veículos automotores'}, {'codigo': 7490104, 'descricao': 'Atividades de intermediação e agenciamento de serviços e negócios em geral, exceto imobiliários'}], 'natureza_juridica': 'Sociedade Anônima Fechada', 'situacao_especial': '', 'opcao_pelo_simples': None, 'situacao_cadastral': 2, 'data_opcao_pelo_mei': None, 'data_exclusao_do_mei': None, 'cnae_fiscal_descricao': 'Comércio a varejo de automóveis, camionetas e utilitários novos', 'codigo_municipio_ibge': 2611606, 'data_inicio_atividade': '2010-11-30', 'data_situacao_especial': None, 'data_opcao_pelo_simples': None, 'data_situacao_cadastral': '2010-11-30', 'nome_cidade_no_exterior': '', 'codigo_natureza_juridica': 2054, 'data_exclusao_do_simples': None, 'motivo_situacao_cadastral': 0, 'ente_federativo_responsavel': '', 'identificador_matriz_filial': 1, 'qualificacao_do_responsavel': 16, 'descricao_situacao_cadastral': 'ATIVA', 'descricao_tipo_de_logradouro': 'AVENIDA', 'descricao_motivo_situacao_cadastral': 'SEM MOTIVO', 'descricao_identificador_matriz_filial': 'MATRIZ'}\n"
     ]
    }
   ],
   "source": [
    "import requests\n",
    "import unicodedata\n",
    "\n",
    "destinatario = '12946886000140'\n",
    "api_brasil = requests.get(f'https://brasilapi.com.br/api/cnpj/v1/{destinatario}')\n",
    "destino = api_brasil.json()\n",
    "print(destino)"
   ]
  },
  {
   "cell_type": "code",
   "execution_count": 79,
   "id": "ec9abb2a",
   "metadata": {},
   "outputs": [],
   "source": [
    "def remover_acentos(texto):\n",
    "    return ''.join(\n",
    "        c for c in unicodedata.normalize('NFD', texto)\n",
    "        if unicodedata.category(c) != 'Mn'\n",
    "    )\n",
    "\n",
    "def pegar_codigo_cidade(estado, cidade):\n",
    "    \n",
    "    # URL api Brasil para ibge\n",
    "    url = f'https://brasilapi.com.br/api/ibge/municipios/v1/{estado}'\n",
    "    requisicao = requests.get(url)\n",
    "    dados_empresa = requisicao.json()\n",
    "    for dicionario in dados_empresa:\n",
    "        if cidade == remover_acentos(dicionario.get('nome')):\n",
    "            cidade = dicionario.get('nome'), \n",
    "            codigo_cidade = dicionario.get('codigo_ibge')\n",
    "    return cidade[0], codigo_cidade"
   ]
  },
  {
   "cell_type": "code",
   "execution_count": 80,
   "id": "d645808e",
   "metadata": {},
   "outputs": [
    {
     "data": {
      "text/plain": [
       "'MARECHAL MASCARENHAS DE MORAES'"
      ]
     },
     "execution_count": 80,
     "metadata": {},
     "output_type": "execute_result"
    }
   ],
   "source": [
    "destino.get('logradouro')"
   ]
  },
  {
   "cell_type": "code",
   "execution_count": 89,
   "id": "be8f8f23",
   "metadata": {},
   "outputs": [],
   "source": [
    "\n",
    "itens_produtos = {\n",
    "    \"descricao\": \"Produto 1\",\n",
    "    \"valor_unitario\": 120\n",
    "}\n",
    "\n",
    "# Cálculo do valor total da NFe\n",
    "quantidade = 5\n",
    "valor_unitario = itens_produtos.get('valor_unitario')\n",
    "valor_pagamento = float(valor_unitario * quantidade)\n",
    "\n",
    "\n",
    "valor_unitario = float(valor_unitario)"
   ]
  },
  {
   "cell_type": "code",
   "execution_count": 90,
   "id": "a7bfaa36",
   "metadata": {},
   "outputs": [
    {
     "data": {
      "text/plain": [
       "120.0"
      ]
     },
     "execution_count": 90,
     "metadata": {},
     "output_type": "execute_result"
    }
   ],
   "source": [
    "valor_unitario"
   ]
  },
  {
   "cell_type": "code",
   "execution_count": 92,
   "id": "80c64f04",
   "metadata": {},
   "outputs": [
    {
     "data": {
      "text/plain": [
       "600.0"
      ]
     },
     "execution_count": 92,
     "metadata": {},
     "output_type": "execute_result"
    }
   ],
   "source": [
    "valor_pagamento"
   ]
  },
  {
   "cell_type": "code",
   "execution_count": 93,
   "id": "2d431eb2",
   "metadata": {},
   "outputs": [
    {
     "data": {
      "text/plain": [
       "('RECIFE', '2611606')"
      ]
     },
     "execution_count": 93,
     "metadata": {},
     "output_type": "execute_result"
    }
   ],
   "source": [
    "pegar_codigo_cidade(destino.get('uf'), destino.get('municipio'))"
   ]
  },
  {
   "cell_type": "code",
   "execution_count": 94,
   "id": "fd7405f1",
   "metadata": {},
   "outputs": [
    {
     "name": "stdout",
     "output_type": "stream",
     "text": [
      "400\n",
      "{\"error\":{\"message\":\"Falha na validação do JSON de NFe\",\"data\":{\"fields\":{\"NFe[undefined]\":\"Necessário enviar 'valorTroco' quando 'pagamentos.valor' for maior que o total da NFe\"}}}}\n"
     ]
    }
   ],
   "source": [
    "# Como emitir \n",
    "\n",
    "\n",
    "cnpj = '15436220000130'\n",
    "link = f'https://api.sandbox.plugnotas.com.br/nfe'\n",
    "\n",
    "headers = {\n",
    "    'x-api-key': '2da392a6-79d2-4304-a8b7-959572c7e44d'\n",
    "}\n",
    "\n",
    "dados_emissao = [{\n",
    "    \"emitente\": {\n",
    "        \"cpfCnpj\": cnpj,\n",
    "        },\n",
    "    \n",
    "    \"destinatario\": {\n",
    "        \"cpfCnpj\": destino.get('cnpj'),\n",
    "        \"endereco\": {\n",
    "            \"bairro\": destino.get('bairro'),\n",
    "            \"cep\":destino.get('cep'),\n",
    "            \"codigoCidade\" : pegar_codigo_cidade(destino.get('uf'), destino.get('municipio'))[1],\n",
    "            \"estado\": destino.get('uf'),\n",
    "            \"logradouro\": destino.get('logradouro'),\n",
    "            \"numero\": destino.get('numero'),\n",
    "            \"tipoLogradouro\": destino.get('descricao_tipo_de_logradouro'),            \n",
    "        }\n",
    "    },\n",
    "    \"itens\": [{\n",
    "        \"descricao\":  itens_produtos.get('descricao'),\n",
    "        \"ncm\": \"83100000\",\n",
    "        \"cfop\": \"5102\",\n",
    "        \"tributos\": {\n",
    "            \"pis\":{\n",
    "                \"cst\": \"99\",\n",
    "                \"baseCalculo\": {\n",
    "                    \"valor\": 0.00\n",
    "                },\n",
    "                \"aliquota\": 0.00 \n",
    "            },\n",
    "            \"cofins\": {\n",
    "                \"cst\": \"99\",\n",
    "                \"baseCalculo\": {\n",
    "                    \"valor\": 0.00\n",
    "                },\n",
    "                \"aliquota\": 0.00,\n",
    "                \"valor\": 0.00,\n",
    "                \n",
    "            },\n",
    "                    \n",
    "        }, \n",
    "        \n",
    "        \"valorUnitario\": {\n",
    "             \"comercial\": float(valor_unitario),\n",
    "             \"tributavel\": float(valor_unitario),\n",
    "         }, \n",
    "    }],\n",
    "   \n",
    "    \"pagamentos\": {\n",
    "        \"aVista\": True,\n",
    "        \"meio\": \"99\",\n",
    "        \"valor\": float(valor_pagamento),        \n",
    "    },\n",
    "},\n",
    "]\n",
    "\n",
    "emissao = requests.post(link, headers=headers, json=dados_emissao)\n",
    "\n",
    "print(emissao.status_code)\n",
    "\n",
    "print(emissao.text)"
   ]
  },
  {
   "cell_type": "code",
   "execution_count": 95,
   "id": "ef8953c3",
   "metadata": {},
   "outputs": [
    {
     "data": {
      "text/plain": [
       "600.0"
      ]
     },
     "execution_count": 95,
     "metadata": {},
     "output_type": "execute_result"
    }
   ],
   "source": [
    "float(valor_pagamento)"
   ]
  },
  {
   "cell_type": "code",
   "execution_count": 96,
   "id": "044ca844",
   "metadata": {},
   "outputs": [
    {
     "data": {
      "text/plain": [
       "120.0"
      ]
     },
     "execution_count": 96,
     "metadata": {},
     "output_type": "execute_result"
    }
   ],
   "source": [
    "valor_unitario"
   ]
  },
  {
   "cell_type": "code",
   "execution_count": 97,
   "id": "6e4beab2",
   "metadata": {},
   "outputs": [
    {
     "name": "stdout",
     "output_type": "stream",
     "text": [
      "500\n",
      "{\"message\":\"Ocorreu um erro interno, nossa equipe já foi notificado do problema. Tente novamente mais tarde.\"}\n"
     ]
    }
   ],
   "source": [
    "# Solicitar Cancelamento da nota fiscal\n",
    "idNota = '5f1f7069af3fbe5296dfxxx'\n",
    "url_canc = f\"https://api.sandbox.plugnotas.com.br/nfe/{idNota}/cancelamento\"\n",
    "justificativa_msg = \"Erro na emissão da Nota Fiscal eletrônica.  2024\"\n",
    "\n",
    "justificativa = {\n",
    "    \"justificativa\": justificativa_msg\n",
    "}\n",
    "\n",
    "cancelar = requests.post(url_canc, headers=headers, json=justificativa)\n",
    "print(cancelar.status_code)\n",
    "print(cancelar.text)"
   ]
  },
  {
   "cell_type": "code",
   "execution_count": 98,
   "id": "5d21f97c",
   "metadata": {},
   "outputs": [
    {
     "name": "stdout",
     "output_type": "stream",
     "text": [
      "404\n",
      "{\"error\":{\"message\":\"Não localizamos qualquer NFe com os parâmetros informados\",\"data\":{\"idOrChave\":\"5f1f7069af3fbe5296dfxxx\"}}}\n"
     ]
    }
   ],
   "source": [
    "# consultar status de nota cancelada\n",
    "\n",
    "link_status = f\"https://api.sandbox.plugnotas.com.br/nfe/{idNota}/cancelamento/status\"\n",
    "\n",
    "status = requests.get(link_status, headers=headers)\n",
    "print(status.status_code)\n",
    "print(status.text)"
   ]
  },
  {
   "cell_type": "code",
   "execution_count": 99,
   "id": "8f163061",
   "metadata": {},
   "outputs": [
    {
     "name": "stdout",
     "output_type": "stream",
     "text": [
      "502\n",
      "<html>\r\n",
      "<head><title>502 Bad Gateway</title></head>\r\n",
      "<body>\r\n",
      "<center><h1>502 Bad Gateway</h1></center>\r\n",
      "</body>\r\n",
      "</html>\r\n",
      "\n"
     ]
    }
   ],
   "source": [
    "# Consultar resumo da nota\n",
    "idNotaOrChaveOrProtocol = '26250115436220000130550010000040301146346848'\n",
    "link_status = f\"https://api.sandbox.plugnotas.com.br/nfe/{idNotaOrChaveOrProtocol}/resumo\"\n",
    "\n",
    "status = requests.get(link_status, headers=headers)\n",
    "print(status.status_code)\n",
    "print(status.text)"
   ]
  },
  {
   "cell_type": "code",
   "execution_count": 100,
   "id": "015d1d38",
   "metadata": {},
   "outputs": [
    {
     "name": "stdout",
     "output_type": "stream",
     "text": [
      "404\n",
      "{\"error\":{\"message\":\"Não localizamos qualquer NFe com os parâmetros informados\",\"data\":{\"id\":\"5f1f7069af3fbe5296dfxxx\"}}}\n"
     ]
    }
   ],
   "source": [
    "# Baixar PDF da nota\n",
    "url_pdf = f'https://api.sandbox.plugnotas.com.br/nfe/{idNota}/pdf'\n",
    "requisicao = requests.get(url_pdf, headers=headers)\n",
    "print(requisicao.status_code)\n",
    "print(requisicao.text)"
   ]
  },
  {
   "cell_type": "code",
   "execution_count": 101,
   "id": "74ac33fa",
   "metadata": {},
   "outputs": [
    {
     "data": {
      "text/plain": [
       "'41201008187168000160558050010000131609769080'"
      ]
     },
     "execution_count": 101,
     "metadata": {},
     "output_type": "execute_result"
    }
   ],
   "source": [
    "idNotaOrChaveOrProtocol = '41201008187168000160558050010000131609769080'\n",
    "idNotaOrChaveOrProtocol"
   ]
  },
  {
   "cell_type": "code",
   "execution_count": 102,
   "id": "59b053b6",
   "metadata": {},
   "outputs": [
    {
     "name": "stdout",
     "output_type": "stream",
     "text": [
      "400\n",
      "{\"error\":{\"message\":\"Falha ao buscar NFe, o ID utilizado é inválido\",\"data\":{\"id\":\"41201008187168000160558050010000131609769080\"}}}\n"
     ]
    }
   ],
   "source": [
    "# Baixar XML da nota\n",
    "url_xml = f'https://api.sandbox.plugnotas.com.br/nfe/{idNotaOrChaveOrProtocol}/xml'\n",
    "requisicao = requests.get(url_xml, headers=headers)\n",
    "print(requisicao.status_code)\n",
    "print(requisicao.text)"
   ]
  },
  {
   "cell_type": "code",
   "execution_count": 105,
   "id": "659509ae",
   "metadata": {},
   "outputs": [
    {
     "name": "stdout",
     "output_type": "stream",
     "text": [
      "200\n",
      "{\"hashProximaPagina\":null,\"notas\":[]}\n"
     ]
    }
   ],
   "source": [
    "# Consultar notas por período\n",
    "cnpj = '15436220000130'\n",
    "url = f'https://api.sandbox.plugnotas.com.br/nfe/consulta/periodo?cpfCnpj={cnpj}&dataInicial=2024-12-01&dataFinal=2024-12-31'\n",
    "nota_data = requisicao = requests.get(url, headers=headers)\n",
    "print(nota_data.status_code)\n",
    "print(nota_data.text)"
   ]
  },
  {
   "cell_type": "code",
   "execution_count": 110,
   "id": "4f6e9417",
   "metadata": {},
   "outputs": [
    {
     "name": "stdout",
     "output_type": "stream",
     "text": [
      "200\n"
     ]
    }
   ],
   "source": [
    "url_cidade = 'https://api.sandbox.plugnotas.com.br/nfse/cidades'\n",
    "cidades = requisicao = requests.get(url_cidade, headers=headers)\n",
    "print(cidades.status_code)\n"
   ]
  },
  {
   "cell_type": "code",
   "execution_count": 119,
   "id": "cce6bd7a",
   "metadata": {},
   "outputs": [
    {
     "name": "stdout",
     "output_type": "stream",
     "text": [
      "{'id': 2611606, 'nome': 'Recife', 'uf': 'PE', 'padraoNacional': {'producao': False, 'homologacao': False}, 'padrao': 'TIPLAN', 'certificado': True, 'multiservicos': False, 'login': False, 'senha': False, 'lote': {}, 'sequencial': True, 'detalhesEmissao': {}, 'ambiente': {}, 'metodosDisponiveis': {}, 'token': False, 'detalhes': '', 'upload': False, 'descricao': 0, 'substituicao': True, 'informacoesComplementares': 0}\n"
     ]
    }
   ],
   "source": [
    "for cidade in cidades.json():\n",
    "    if cidade.get('nome').lower() == 'recife':\n",
    "        print(cidade)\n"
   ]
  }
 ],
 "metadata": {
  "kernelspec": {
   "display_name": "Python 3 (ipykernel)",
   "language": "python",
   "name": "python3"
  },
  "language_info": {
   "codemirror_mode": {
    "name": "ipython",
    "version": 3
   },
   "file_extension": ".py",
   "mimetype": "text/x-python",
   "name": "python",
   "nbconvert_exporter": "python",
   "pygments_lexer": "ipython3",
   "version": "3.9.13"
  }
 },
 "nbformat": 4,
 "nbformat_minor": 5
}
