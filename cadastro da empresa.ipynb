{
 "cells": [
  {
   "cell_type": "code",
   "execution_count": 38,
   "id": "482d12f9",
   "metadata": {},
   "outputs": [],
   "source": [
    "import requests\n",
    "import unicodedata"
   ]
  },
  {
   "cell_type": "code",
   "execution_count": 39,
   "id": "42dc26bd",
   "metadata": {},
   "outputs": [],
   "source": [
    "cnpj = '15436220000130'\n",
    "email = 'recifeplacas@hotmail.com'\n",
    " # URL api Brasil para cnpj\n",
    "def pegar_dados_empresa(cnpj):\n",
    "    requisicao = requests.get(f'https://brasilapi.com.br/api/cnpj/v1/{cnpj}')\n",
    "    dados_empresa = requisicao.json()\n",
    "    return dados_empresa"
   ]
  },
  {
   "cell_type": "code",
   "execution_count": 40,
   "id": "08f48e5f",
   "metadata": {},
   "outputs": [
    {
     "name": "stdout",
     "output_type": "stream",
     "text": [
      "{'uf': 'PE', 'cep': '50690130', 'qsa': [{'pais': None, 'nome_socio': 'SEVERINO CRISTOVAO DA SILVA FILHO', 'codigo_pais': None, 'faixa_etaria': 'Entre 61 a 70 anos', 'cnpj_cpf_do_socio': '***255494**', 'qualificacao_socio': 'Sócio-Administrador', 'codigo_faixa_etaria': 7, 'data_entrada_sociedade': '2012-10-02', 'identificador_de_socio': 2, 'cpf_representante_legal': '***000000**', 'nome_representante_legal': '', 'codigo_qualificacao_socio': 49, 'qualificacao_representante_legal': 'Não informada', 'codigo_qualificacao_representante_legal': 0}], 'cnpj': '15436220000130', 'pais': None, 'email': None, 'porte': 'MICRO EMPRESA', 'bairro': 'IPUTINGA', 'numero': '32', 'ddd_fax': '', 'municipio': 'RECIFE', 'logradouro': 'MAJOR MARCELO MENEZES', 'cnae_fiscal': 3299003, 'codigo_pais': None, 'complemento': 'CASA', 'codigo_porte': 1, 'razao_social': 'CRISTOVAO E MEDEIROS INDUSTRIA E COMERCIO DE PLACAS LTDA', 'nome_fantasia': 'RECIFE PLACAS', 'capital_social': 105000, 'ddd_telefone_1': '8188668020', 'ddd_telefone_2': '', 'opcao_pelo_mei': False, 'descricao_porte': '', 'codigo_municipio': 2531, 'cnaes_secundarios': [{'codigo': 0, 'descricao': ''}], 'natureza_juridica': 'Sociedade Empresária Limitada', 'situacao_especial': '', 'opcao_pelo_simples': True, 'situacao_cadastral': 2, 'data_opcao_pelo_mei': None, 'data_exclusao_do_mei': None, 'cnae_fiscal_descricao': 'Fabricação de letras, letreiros e placas de qualquer material, exceto luminosos', 'codigo_municipio_ibge': 2611606, 'data_inicio_atividade': '2012-04-20', 'data_situacao_especial': None, 'data_opcao_pelo_simples': '2018-01-01', 'data_situacao_cadastral': '2012-04-20', 'nome_cidade_no_exterior': '', 'codigo_natureza_juridica': 2062, 'data_exclusao_do_simples': None, 'motivo_situacao_cadastral': 0, 'ente_federativo_responsavel': '', 'identificador_matriz_filial': 1, 'qualificacao_do_responsavel': 49, 'descricao_situacao_cadastral': 'ATIVA', 'descricao_tipo_de_logradouro': 'RUA', 'descricao_motivo_situacao_cadastral': 'SEM MOTIVO', 'descricao_identificador_matriz_filial': 'MATRIZ'}\n"
     ]
    }
   ],
   "source": [
    "dados_empresa = pegar_dados_empresa(cnpj)\n",
    "print(dados_empresa)"
   ]
  },
  {
   "cell_type": "code",
   "execution_count": 41,
   "id": "4c376bcc",
   "metadata": {},
   "outputs": [
    {
     "data": {
      "text/plain": [
       "'RECIFE'"
      ]
     },
     "execution_count": 41,
     "metadata": {},
     "output_type": "execute_result"
    }
   ],
   "source": [
    "cidade_empresa = dados_empresa.get('municipio')\n",
    "cidade_empresa"
   ]
  },
  {
   "cell_type": "code",
   "execution_count": 42,
   "id": "b081cce7",
   "metadata": {},
   "outputs": [
    {
     "data": {
      "text/plain": [
       "'PE'"
      ]
     },
     "execution_count": 42,
     "metadata": {},
     "output_type": "execute_result"
    }
   ],
   "source": [
    "estado_empresa = dados_empresa.get('uf')\n",
    "estado_empresa"
   ]
  },
  {
   "cell_type": "code",
   "execution_count": 43,
   "id": "c8ba0671",
   "metadata": {},
   "outputs": [],
   "source": [
    "def remover_acentos(texto):\n",
    "    return ''.join(\n",
    "        c for c in unicodedata.normalize('NFD', texto)\n",
    "        if unicodedata.category(c) != 'Mn'\n",
    "    )\n",
    "\n",
    "def pegar_codigo_cidade(estado, cidade):\n",
    "    \n",
    "    # URL api Brasil para ibge\n",
    "    url = f'https://brasilapi.com.br/api/ibge/municipios/v1/{estado}'\n",
    "    requisicao = requests.get(url)\n",
    "    dados_empresa = requisicao.json()\n",
    "    for dicionario in dados_empresa:\n",
    "        if cidade == remover_acentos(dicionario.get('nome')):\n",
    "            cidade = dicionario.get('nome'), \n",
    "            codigo_cidade = dicionario.get('codigo_ibge')\n",
    "    return cidade[0], codigo_cidade"
   ]
  },
  {
   "cell_type": "code",
   "execution_count": 44,
   "id": "52a07e5a",
   "metadata": {},
   "outputs": [
    {
     "data": {
      "text/plain": [
       "('RECIFE', '2611606')"
      ]
     },
     "execution_count": 44,
     "metadata": {},
     "output_type": "execute_result"
    }
   ],
   "source": [
    "pegar_codigo_cidade(estado_empresa, cidade_empresa)\n"
   ]
  },
  {
   "cell_type": "code",
   "execution_count": 45,
   "id": "c49d7955",
   "metadata": {},
   "outputs": [
    {
     "name": "stdout",
     "output_type": "stream",
     "text": [
      "None\n"
     ]
    }
   ],
   "source": [
    "print(dados_empresa.get('email'))"
   ]
  },
  {
   "cell_type": "code",
   "execution_count": 52,
   "id": "215ad65e",
   "metadata": {},
   "outputs": [
    {
     "data": {
      "text/plain": [
       "409"
      ]
     },
     "execution_count": 52,
     "metadata": {},
     "output_type": "execute_result"
    }
   ],
   "source": [
    "url = 'https://api.sandbox.plugnotas.com.br/empresa'\n",
    "headers = {\n",
    "    'X-API-KEY': '2da392a6-79d2-4304-a8b7-959572c7e44d'\n",
    "}\n",
    "\n",
    "body = {\n",
    "    'cpfCnpj': dados_empresa.get('cnpj'),\n",
    "    \n",
    "    # Inscriçao Estadual tem que ver um jeito automatico ou forca usuario digitar\n",
    "    'inscricaoEstadual': '048411159',\n",
    "    'razaoSocial': dados_empresa.get('razao_social'),\n",
    "    \n",
    "    # certificado digital se cadatra antes pega o ID e assim pode cadastra empresa \n",
    "    'certificado': '67829b65b931bb7d670c7341', #'ID do certificado a ser vinculado a empresa. Obtido através da rota /certificado',\n",
    "    'simplesNacional': dados_empresa.get('opcao_pelo_simples'),\n",
    "    \n",
    "    # O regime tributario tera que ver com o contador da empresa cadastrada\n",
    "    'regimeTributario': 1,\n",
    "    'regimeTributarioEspecial': 6,\n",
    "    \n",
    "    'endereco': {\n",
    "        'bairro': dados_empresa.get('bairro'),\n",
    "        'cep': dados_empresa.get('cep'),\n",
    "        \n",
    "        # criar funcao para bucar codigo da cidade do IBGE\n",
    "        'codigoCidade': pegar_codigo_cidade(estado_empresa, cidade_empresa)[1],\n",
    "        'estado': dados_empresa.get('uf'),\n",
    "        'logradouro': dados_empresa.get('logradouro'),\n",
    "        'numero': dados_empresa.get('numero'),\n",
    "        'tipoLogradouro': dados_empresa.get('descricao_tipo_de_logradouro'),        \n",
    "    },\n",
    "    # o email sera na hora do cadastro o email do usuario ja logado\n",
    "    'email': email,\n",
    "    \n",
    "    'nfe': {\n",
    "        'ativo': True,\n",
    "        'tipoContrato': 1\n",
    "    },\n",
    "}\n",
    "\n",
    "requisicao = requests.post(url, headers=headers, json=body)\n",
    "requisicao.status_code"
   ]
  },
  {
   "cell_type": "code",
   "execution_count": 53,
   "id": "a1795691",
   "metadata": {},
   "outputs": [
    {
     "data": {
      "text/plain": [
       "{'error': {'message': 'Já existe uma Empresa com os parâmetros informados',\n",
       "  'data': {'new': {'cnpj': '15436220000130'},\n",
       "   'current': {'cnpj': '15436220000130',\n",
       "    'razaoSocial': 'CRISTOVAO E MEDEIROS INDUSTRIA E COMERCIO DE PLACAS LTDA'}}}}"
      ]
     },
     "execution_count": 53,
     "metadata": {},
     "output_type": "execute_result"
    }
   ],
   "source": [
    "requisicao.json()"
   ]
  },
  {
   "cell_type": "code",
   "execution_count": null,
   "id": "84a05422",
   "metadata": {},
   "outputs": [],
   "source": []
  }
 ],
 "metadata": {
  "kernelspec": {
   "display_name": "Python 3 (ipykernel)",
   "language": "python",
   "name": "python3"
  },
  "language_info": {
   "codemirror_mode": {
    "name": "ipython",
    "version": 3
   },
   "file_extension": ".py",
   "mimetype": "text/x-python",
   "name": "python",
   "nbconvert_exporter": "python",
   "pygments_lexer": "ipython3",
   "version": "3.9.13"
  }
 },
 "nbformat": 4,
 "nbformat_minor": 5
}
