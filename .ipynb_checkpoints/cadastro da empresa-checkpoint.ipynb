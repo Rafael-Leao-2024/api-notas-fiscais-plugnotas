{
 "cells": [
  {
   "cell_type": "code",
   "execution_count": 69,
   "id": "482d12f9",
   "metadata": {},
   "outputs": [],
   "source": [
    "import requests\n",
    "import unicodedata"
   ]
  },
  {
   "cell_type": "code",
   "execution_count": 70,
   "id": "42dc26bd",
   "metadata": {},
   "outputs": [],
   "source": [
    "cnpj = '08187168000160'\n",
    "email = 'recifeplacas@hotmail.com'\n",
    " # URL api Brasil para cnpj\n",
    "def pegar_dados_empresa(cnpj):\n",
    "    requisicao = requests.get(f'https://brasilapi.com.br/api/cnpj/v1/{cnpj}')\n",
    "    dados_empresa = requisicao.json()\n",
    "    return dados_empresa"
   ]
  },
  {
   "cell_type": "code",
   "execution_count": 71,
   "id": "08f48e5f",
   "metadata": {},
   "outputs": [
    {
     "data": {
      "text/plain": [
       "{'uf': 'PR',\n",
       " 'cep': '87014010',\n",
       " 'qsa': [{'pais': None,\n",
       "   'nome_socio': 'ERIKE LEITE DE ALMEIDA',\n",
       "   'codigo_pais': None,\n",
       "   'faixa_etaria': 'Entre 41 a 50 anos',\n",
       "   'cnpj_cpf_do_socio': '***493259**',\n",
       "   'qualificacao_socio': 'Presidente',\n",
       "   'codigo_faixa_etaria': 5,\n",
       "   'data_entrada_sociedade': '2007-12-03',\n",
       "   'identificador_de_socio': 2,\n",
       "   'cpf_representante_legal': '***000000**',\n",
       "   'nome_representante_legal': '',\n",
       "   'codigo_qualificacao_socio': 16,\n",
       "   'qualificacao_representante_legal': 'Não informada',\n",
       "   'codigo_qualificacao_representante_legal': 0},\n",
       "  {'pais': None,\n",
       "   'nome_socio': 'RODRIGO RAMALHO XAVIER',\n",
       "   'codigo_pais': None,\n",
       "   'faixa_etaria': 'Entre 41 a 50 anos',\n",
       "   'cnpj_cpf_do_socio': '***885519**',\n",
       "   'qualificacao_socio': 'Diretor',\n",
       "   'codigo_faixa_etaria': 5,\n",
       "   'data_entrada_sociedade': '2016-12-08',\n",
       "   'identificador_de_socio': 2,\n",
       "   'cpf_representante_legal': '***000000**',\n",
       "   'nome_representante_legal': '',\n",
       "   'codigo_qualificacao_socio': 10,\n",
       "   'qualificacao_representante_legal': 'Não informada',\n",
       "   'codigo_qualificacao_representante_legal': 0},\n",
       "  {'pais': None,\n",
       "   'nome_socio': 'JONATHAN THEODORO DOS SANTOS',\n",
       "   'codigo_pais': None,\n",
       "   'faixa_etaria': 'Entre 41 a 50 anos',\n",
       "   'cnpj_cpf_do_socio': '***213479**',\n",
       "   'qualificacao_socio': 'Diretor',\n",
       "   'codigo_faixa_etaria': 5,\n",
       "   'data_entrada_sociedade': '2016-12-08',\n",
       "   'identificador_de_socio': 2,\n",
       "   'cpf_representante_legal': '***000000**',\n",
       "   'nome_representante_legal': '',\n",
       "   'codigo_qualificacao_socio': 10,\n",
       "   'qualificacao_representante_legal': 'Não informada',\n",
       "   'codigo_qualificacao_representante_legal': 0},\n",
       "  {'pais': None,\n",
       "   'nome_socio': 'BRUNO MAESTRELLO',\n",
       "   'codigo_pais': None,\n",
       "   'faixa_etaria': 'Entre 31 a 40 anos',\n",
       "   'cnpj_cpf_do_socio': '***326999**',\n",
       "   'qualificacao_socio': 'Diretor',\n",
       "   'codigo_faixa_etaria': 4,\n",
       "   'data_entrada_sociedade': '2016-12-08',\n",
       "   'identificador_de_socio': 2,\n",
       "   'cpf_representante_legal': '***000000**',\n",
       "   'nome_representante_legal': '',\n",
       "   'codigo_qualificacao_socio': 10,\n",
       "   'qualificacao_representante_legal': 'Não informada',\n",
       "   'codigo_qualificacao_representante_legal': 0},\n",
       "  {'pais': None,\n",
       "   'nome_socio': 'RODRIGO GODINHO PALHANO',\n",
       "   'codigo_pais': None,\n",
       "   'faixa_etaria': 'Entre 41 a 50 anos',\n",
       "   'cnpj_cpf_do_socio': '***992849**',\n",
       "   'qualificacao_socio': 'Diretor',\n",
       "   'codigo_faixa_etaria': 5,\n",
       "   'data_entrada_sociedade': '2021-01-08',\n",
       "   'identificador_de_socio': 2,\n",
       "   'cpf_representante_legal': '***000000**',\n",
       "   'nome_representante_legal': '',\n",
       "   'codigo_qualificacao_socio': 10,\n",
       "   'qualificacao_representante_legal': 'Não informada',\n",
       "   'codigo_qualificacao_representante_legal': 0}],\n",
       " 'cnpj': '08187168000160',\n",
       " 'pais': None,\n",
       " 'email': None,\n",
       " 'porte': 'DEMAIS',\n",
       " 'bairro': 'ZONA ARMAZEM',\n",
       " 'numero': '294',\n",
       " 'ddd_fax': '4430261047',\n",
       " 'municipio': 'MARINGA',\n",
       " 'logradouro': 'CARNEIRO LEAO',\n",
       " 'cnae_fiscal': 6203100,\n",
       " 'codigo_pais': None,\n",
       " 'complemento': 'SALA 502 ANEXO B BOX 001',\n",
       " 'codigo_porte': 5,\n",
       " 'razao_social': 'TECNOSPEED S/A',\n",
       " 'nome_fantasia': 'TECNOSPEED',\n",
       " 'capital_social': 1200700.4,\n",
       " 'ddd_telefone_1': '4430379500',\n",
       " 'ddd_telefone_2': '',\n",
       " 'opcao_pelo_mei': None,\n",
       " 'descricao_porte': '',\n",
       " 'codigo_municipio': 7691,\n",
       " 'cnaes_secundarios': [{'codigo': 6201501,\n",
       "   'descricao': 'Desenvolvimento de programas de computador sob encomenda'},\n",
       "  {'codigo': 6202300,\n",
       "   'descricao': 'Desenvolvimento e licenciamento de programas de computador customizáveis'}],\n",
       " 'natureza_juridica': 'Sociedade Anônima Fechada',\n",
       " 'situacao_especial': '',\n",
       " 'opcao_pelo_simples': None,\n",
       " 'situacao_cadastral': 2,\n",
       " 'data_opcao_pelo_mei': None,\n",
       " 'data_exclusao_do_mei': None,\n",
       " 'cnae_fiscal_descricao': 'Desenvolvimento e licenciamento de programas de computador não-customizáveis',\n",
       " 'codigo_municipio_ibge': 4115200,\n",
       " 'data_inicio_atividade': '2006-07-26',\n",
       " 'data_situacao_especial': None,\n",
       " 'data_opcao_pelo_simples': None,\n",
       " 'data_situacao_cadastral': '2006-07-26',\n",
       " 'nome_cidade_no_exterior': '',\n",
       " 'codigo_natureza_juridica': 2054,\n",
       " 'data_exclusao_do_simples': None,\n",
       " 'motivo_situacao_cadastral': 0,\n",
       " 'ente_federativo_responsavel': '',\n",
       " 'identificador_matriz_filial': 1,\n",
       " 'qualificacao_do_responsavel': 16,\n",
       " 'descricao_situacao_cadastral': 'ATIVA',\n",
       " 'descricao_tipo_de_logradouro': 'AVENIDA',\n",
       " 'descricao_motivo_situacao_cadastral': 'SEM MOTIVO',\n",
       " 'descricao_identificador_matriz_filial': 'MATRIZ'}"
      ]
     },
     "execution_count": 71,
     "metadata": {},
     "output_type": "execute_result"
    }
   ],
   "source": [
    "dados_empresa = pegar_dados_empresa(cnpj)\n",
    "dados_empresa"
   ]
  },
  {
   "cell_type": "code",
   "execution_count": 72,
   "id": "4c376bcc",
   "metadata": {},
   "outputs": [
    {
     "data": {
      "text/plain": [
       "'MARINGA'"
      ]
     },
     "execution_count": 72,
     "metadata": {},
     "output_type": "execute_result"
    }
   ],
   "source": [
    "cidade_empresa = dados_empresa.get('municipio')\n",
    "cidade_empresa"
   ]
  },
  {
   "cell_type": "code",
   "execution_count": 73,
   "id": "b081cce7",
   "metadata": {},
   "outputs": [
    {
     "data": {
      "text/plain": [
       "'PR'"
      ]
     },
     "execution_count": 73,
     "metadata": {},
     "output_type": "execute_result"
    }
   ],
   "source": [
    "estado_empresa = dados_empresa.get('uf')\n",
    "estado_empresa"
   ]
  },
  {
   "cell_type": "code",
   "execution_count": 74,
   "id": "c8ba0671",
   "metadata": {},
   "outputs": [],
   "source": [
    "def remover_acentos(texto):\n",
    "    return ''.join(\n",
    "        c for c in unicodedata.normalize('NFD', texto)\n",
    "        if unicodedata.category(c) != 'Mn'\n",
    "    )\n",
    "\n",
    "def pegar_codigo_cidade(estado, cidade):\n",
    "    \n",
    "    # URL api Brasil para ibge\n",
    "    url = f'https://brasilapi.com.br/api/ibge/municipios/v1/{estado}'\n",
    "    requisicao = requests.get(url)\n",
    "    dados_empresa = requisicao.json()\n",
    "    for dicionario in dados_empresa:\n",
    "        if cidade == remover_acentos(dicionario.get('nome')):\n",
    "            cidade = dicionario.get('nome'), \n",
    "            codigo_cidade = dicionario.get('codigo_ibge')\n",
    "    return cidade[0], codigo_cidade"
   ]
  },
  {
   "cell_type": "code",
   "execution_count": 75,
   "id": "52a07e5a",
   "metadata": {},
   "outputs": [
    {
     "data": {
      "text/plain": [
       "('MARINGÁ', '4115200')"
      ]
     },
     "execution_count": 75,
     "metadata": {},
     "output_type": "execute_result"
    }
   ],
   "source": [
    "pegar_codigo_cidade(estado_empresa, cidade_empresa)\n"
   ]
  },
  {
   "cell_type": "code",
   "execution_count": 76,
   "id": "c49d7955",
   "metadata": {},
   "outputs": [
    {
     "name": "stdout",
     "output_type": "stream",
     "text": [
      "None\n"
     ]
    }
   ],
   "source": [
    "print(dados_empresa.get('email'))"
   ]
  },
  {
   "cell_type": "code",
   "execution_count": 77,
   "id": "215ad65e",
   "metadata": {},
   "outputs": [
    {
     "data": {
      "text/plain": [
       "409"
      ]
     },
     "execution_count": 77,
     "metadata": {},
     "output_type": "execute_result"
    }
   ],
   "source": [
    "url = 'https://api.sandbox.plugnotas.com.br/empresa'\n",
    "headers = {\n",
    "    'X-API-KEY': '2da392a6-79d2-4304-a8b7-959572c7e44d'\n",
    "}\n",
    "\n",
    "body = {\n",
    "    'cpfCnpj': dados_empresa.get('cnpj'),\n",
    "    \n",
    "    # Inscriçao Estadual tem que ver um jeito automatico ou forca usuario digitar\n",
    "    'inscricaoEstadual': '048411159',\n",
    "    'razaoSocial': dados_empresa.get('razao_social'),\n",
    "    \n",
    "    # certificado digital se cadatra antes pega o ID e assim pode cadastra empresa \n",
    "    'certificado': 'ID do certificado a ser vinculado a empresa. Obtido através da rota /certificado',\n",
    "    'simplesNacional': dados_empresa.get('opcao_pelo_simples'),\n",
    "    \n",
    "    # O regime tributario tera que ver com o contador da empresa cadastrada\n",
    "    'regimeTributario': 1,\n",
    "    'regimeTributarioEspecial': 6,\n",
    "    \n",
    "    'endereco': {\n",
    "        'bairro': dados_empresa.get('bairro'),\n",
    "        'cep': dados_empresa.get('cep'),\n",
    "        \n",
    "        # criar funcao para bucar codigo da cidade do IBGE\n",
    "        'codigoCidade': pegar_codigo_cidade(estado_empresa, cidade_empresa)[1],\n",
    "        'estado': dados_empresa.get('uf'),\n",
    "        'logradouro': dados_empresa.get('logradouro'),\n",
    "        'numero': dados_empresa.get('numero'),\n",
    "        'tipoLogradouro': dados_empresa.get('descricao_tipo_de_logradouro'),        \n",
    "    },\n",
    "    # o email sera na hora do cadastro o email do usuario ja logado\n",
    "    'email': email,\n",
    "    \n",
    "    'nfe': {\n",
    "        'ativo': True,\n",
    "        'tipoContrato': 1\n",
    "    },\n",
    "}\n",
    "\n",
    "requisicao = requests.post(url, headers=headers, json=body)\n",
    "requisicao.status_code"
   ]
  },
  {
   "cell_type": "code",
   "execution_count": 78,
   "id": "a1795691",
   "metadata": {},
   "outputs": [
    {
     "data": {
      "text/plain": [
       "{'error': {'message': 'Já existe uma Empresa com os parâmetros informados',\n",
       "  'data': {'new': {'cnpj': '08187168000160'},\n",
       "   'current': {'cnpj': '08187168000160',\n",
       "    'razaoSocial': 'Homologação 1',\n",
       "    'nomeFantasia': 'Homologação Unidade 1'}}}}"
      ]
     },
     "execution_count": 78,
     "metadata": {},
     "output_type": "execute_result"
    }
   ],
   "source": [
    "requisicao.json()"
   ]
  },
  {
   "cell_type": "code",
   "execution_count": null,
   "id": "3c1b18c5",
   "metadata": {},
   "outputs": [],
   "source": []
  }
 ],
 "metadata": {
  "kernelspec": {
   "display_name": "Python 3 (ipykernel)",
   "language": "python",
   "name": "python3"
  },
  "language_info": {
   "codemirror_mode": {
    "name": "ipython",
    "version": 3
   },
   "file_extension": ".py",
   "mimetype": "text/x-python",
   "name": "python",
   "nbconvert_exporter": "python",
   "pygments_lexer": "ipython3",
   "version": "3.9.13"
  }
 },
 "nbformat": 4,
 "nbformat_minor": 5
}
